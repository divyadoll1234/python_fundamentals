{
 "cells": [
  {
   "cell_type": "code",
   "execution_count": null,
   "id": "c4a097e0",
   "metadata": {},
   "outputs": [],
   "source": [
    "Introduction to list datatype : "
   ]
  },
  {
   "cell_type": "code",
   "execution_count": null,
   "id": "9a1e4de3",
   "metadata": {},
   "outputs": [],
   "source": [
    "definition : A list is a collection of items declared in a particular order.\n",
    "\n",
    "clasiffication : it is classified as an mutable datatype\n",
    "\n",
    "how to define/declare the list.......?[] "
   ]
  },
  {
   "cell_type": "code",
   "execution_count": null,
   "id": "61444a18",
   "metadata": {},
   "outputs": [],
   "source": []
  },
  {
   "cell_type": "code",
   "execution_count": 3,
   "id": "27f1b264",
   "metadata": {},
   "outputs": [],
   "source": [
    "students = ['praveen','divya','shiva','jayesh','sandhya','shekar']"
   ]
  },
  {
   "cell_type": "code",
   "execution_count": 4,
   "id": "efeed2c3",
   "metadata": {},
   "outputs": [
    {
     "name": "stdout",
     "output_type": "stream",
     "text": [
      "['praveen', 'divya', 'shiva', 'jayesh', 'sandhya', 'shekar']\n"
     ]
    }
   ],
   "source": [
    "print(students)"
   ]
  },
  {
   "cell_type": "code",
   "execution_count": 6,
   "id": "d3ad6ee3",
   "metadata": {},
   "outputs": [
    {
     "name": "stdout",
     "output_type": "stream",
     "text": [
      "Praveen\n"
     ]
    }
   ],
   "source": [
    "print(students[0].title())"
   ]
  },
  {
   "cell_type": "code",
   "execution_count": 7,
   "id": "8c2ec3f9",
   "metadata": {},
   "outputs": [
    {
     "data": {
      "text/plain": [
       "list"
      ]
     },
     "execution_count": 7,
     "metadata": {},
     "output_type": "execute_result"
    }
   ],
   "source": [
    "type(students)"
   ]
  },
  {
   "cell_type": "code",
   "execution_count": null,
   "id": "fba959ef",
   "metadata": {},
   "outputs": [],
   "source": []
  },
  {
   "cell_type": "code",
   "execution_count": null,
   "id": "55399bda",
   "metadata": {},
   "outputs": [],
   "source": [
    "introduction to index : 0,1,2,3,4......"
   ]
  },
  {
   "cell_type": "code",
   "execution_count": null,
   "id": "7dd03abf",
   "metadata": {},
   "outputs": [],
   "source": [
    "#req : i want to get the name of divya on the output..?"
   ]
  },
  {
   "cell_type": "code",
   "execution_count": 10,
   "id": "5ab2924a",
   "metadata": {},
   "outputs": [
    {
     "name": "stdout",
     "output_type": "stream",
     "text": [
      "divya\n"
     ]
    }
   ],
   "source": [
    "print(students[1])"
   ]
  },
  {
   "cell_type": "code",
   "execution_count": 11,
   "id": "27241246",
   "metadata": {},
   "outputs": [
    {
     "name": "stdout",
     "output_type": "stream",
     "text": [
      "Divya\n"
     ]
    }
   ],
   "source": [
    "print(students[1].title())"
   ]
  },
  {
   "cell_type": "code",
   "execution_count": 12,
   "id": "61ce258d",
   "metadata": {},
   "outputs": [
    {
     "name": "stdout",
     "output_type": "stream",
     "text": [
      "['praveen', 'divya', 'shiva', 'jayesh', 'sandhya', 'shekar']\n"
     ]
    }
   ],
   "source": [
    "print(students)"
   ]
  },
  {
   "cell_type": "code",
   "execution_count": null,
   "id": "6edb2194",
   "metadata": {},
   "outputs": [],
   "source": []
  },
  {
   "cell_type": "code",
   "execution_count": null,
   "id": "854fee5c",
   "metadata": {},
   "outputs": [],
   "source": [
    "1.how to add new elements to the list\n",
    "\n",
    "2.how to modify elements in the list\n",
    "\n",
    "3.how to delete the elemenst in the list"
   ]
  },
  {
   "cell_type": "code",
   "execution_count": null,
   "id": "491cb68b",
   "metadata": {},
   "outputs": [],
   "source": []
  },
  {
   "cell_type": "code",
   "execution_count": null,
   "id": "6924b9a5",
   "metadata": {},
   "outputs": [],
   "source": [
    "# req : how to add pranay to the above list....?"
   ]
  },
  {
   "cell_type": "code",
   "execution_count": 14,
   "id": "eadccc73",
   "metadata": {},
   "outputs": [],
   "source": [
    "students.append('pranay')"
   ]
  },
  {
   "cell_type": "code",
   "execution_count": 15,
   "id": "c058832a",
   "metadata": {},
   "outputs": [
    {
     "name": "stdout",
     "output_type": "stream",
     "text": [
      "['praveen', 'divya', 'shiva', 'jayesh', 'sandhya', 'shekar', 'pranay']\n"
     ]
    }
   ],
   "source": [
    "print(students)"
   ]
  },
  {
   "cell_type": "code",
   "execution_count": null,
   "id": "3e86b755",
   "metadata": {},
   "outputs": [],
   "source": []
  },
  {
   "cell_type": "code",
   "execution_count": null,
   "id": "eccd8429",
   "metadata": {},
   "outputs": [],
   "source": [
    "# req : how to add ayesha to the 2nd index of the list....?"
   ]
  },
  {
   "cell_type": "code",
   "execution_count": 16,
   "id": "13785e9c",
   "metadata": {},
   "outputs": [],
   "source": [
    "students.insert(2,'ayesha')"
   ]
  },
  {
   "cell_type": "code",
   "execution_count": 17,
   "id": "b49e1c54",
   "metadata": {},
   "outputs": [
    {
     "name": "stdout",
     "output_type": "stream",
     "text": [
      "['praveen', 'divya', 'ayesha', 'shiva', 'jayesh', 'sandhya', 'shekar', 'pranay']\n"
     ]
    }
   ],
   "source": [
    "print(students)"
   ]
  },
  {
   "cell_type": "code",
   "execution_count": 18,
   "id": "2440965f",
   "metadata": {},
   "outputs": [
    {
     "name": "stdout",
     "output_type": "stream",
     "text": [
      "Ayesha\n"
     ]
    }
   ],
   "source": [
    "print(students[2].title())"
   ]
  },
  {
   "cell_type": "code",
   "execution_count": null,
   "id": "f01b79ec",
   "metadata": {},
   "outputs": [],
   "source": []
  },
  {
   "cell_type": "code",
   "execution_count": null,
   "id": "5be7b9dc",
   "metadata": {},
   "outputs": [],
   "source": [
    "# req modify praveen name to kumar...?"
   ]
  },
  {
   "cell_type": "code",
   "execution_count": 19,
   "id": "c2ab7af8",
   "metadata": {},
   "outputs": [],
   "source": [
    "students[0] = 'kumar'"
   ]
  },
  {
   "cell_type": "code",
   "execution_count": 20,
   "id": "4474e6f8",
   "metadata": {},
   "outputs": [
    {
     "name": "stdout",
     "output_type": "stream",
     "text": [
      "['kumar', 'divya', 'ayesha', 'shiva', 'jayesh', 'sandhya', 'shekar', 'pranay']\n"
     ]
    }
   ],
   "source": [
    "print(students)"
   ]
  },
  {
   "cell_type": "code",
   "execution_count": null,
   "id": "5132c54c",
   "metadata": {},
   "outputs": [],
   "source": [
    "# deleting the list"
   ]
  },
  {
   "cell_type": "code",
   "execution_count": null,
   "id": "7da8fa02",
   "metadata": {},
   "outputs": [],
   "source": [
    "1. temperorily deleting : method called as pop() whihc is automatically deleting the last element of a list"
   ]
  },
  {
   "cell_type": "code",
   "execution_count": null,
   "id": "9aad47d5",
   "metadata": {},
   "outputs": [],
   "source": []
  },
  {
   "cell_type": "code",
   "execution_count": null,
   "id": "f0226656",
   "metadata": {},
   "outputs": [],
   "source": []
  },
  {
   "cell_type": "code",
   "execution_count": null,
   "id": "4049eee8",
   "metadata": {},
   "outputs": [],
   "source": []
  },
  {
   "cell_type": "code",
   "execution_count": null,
   "id": "0f5930e3",
   "metadata": {},
   "outputs": [],
   "source": []
  },
  {
   "cell_type": "code",
   "execution_count": null,
   "id": "32028227",
   "metadata": {},
   "outputs": [],
   "source": []
  },
  {
   "cell_type": "code",
   "execution_count": 21,
   "id": "bc1e8244",
   "metadata": {},
   "outputs": [],
   "source": [
    "x = students.pop()"
   ]
  },
  {
   "cell_type": "code",
   "execution_count": 22,
   "id": "54fc1ad7",
   "metadata": {},
   "outputs": [
    {
     "name": "stdout",
     "output_type": "stream",
     "text": [
      "['kumar', 'divya', 'ayesha', 'shiva', 'jayesh', 'sandhya', 'shekar']\n"
     ]
    }
   ],
   "source": [
    "print(students)"
   ]
  },
  {
   "cell_type": "code",
   "execution_count": 23,
   "id": "cf265699",
   "metadata": {},
   "outputs": [
    {
     "name": "stdout",
     "output_type": "stream",
     "text": [
      "pranay\n"
     ]
    }
   ],
   "source": [
    "print(x)"
   ]
  },
  {
   "cell_type": "code",
   "execution_count": null,
   "id": "4b4f0408",
   "metadata": {},
   "outputs": [],
   "source": [
    "# req to del shiva"
   ]
  },
  {
   "cell_type": "code",
   "execution_count": 24,
   "id": "23f16e35",
   "metadata": {},
   "outputs": [],
   "source": [
    "y = students.pop(3)"
   ]
  },
  {
   "cell_type": "code",
   "execution_count": 26,
   "id": "816c326e",
   "metadata": {},
   "outputs": [
    {
     "name": "stdout",
     "output_type": "stream",
     "text": [
      "['kumar', 'divya', 'ayesha', 'jayesh', 'sandhya', 'shekar']\n"
     ]
    }
   ],
   "source": [
    "print(students)"
   ]
  },
  {
   "cell_type": "code",
   "execution_count": 27,
   "id": "e228fc99",
   "metadata": {},
   "outputs": [
    {
     "name": "stdout",
     "output_type": "stream",
     "text": [
      "shiva\n"
     ]
    }
   ],
   "source": [
    "print(y)"
   ]
  },
  {
   "cell_type": "code",
   "execution_count": 28,
   "id": "206d7e42",
   "metadata": {},
   "outputs": [],
   "source": [
    "del students[0]"
   ]
  },
  {
   "cell_type": "code",
   "execution_count": 29,
   "id": "1722e823",
   "metadata": {},
   "outputs": [
    {
     "name": "stdout",
     "output_type": "stream",
     "text": [
      "['divya', 'ayesha', 'jayesh', 'sandhya', 'shekar']\n"
     ]
    }
   ],
   "source": [
    "print(students)"
   ]
  },
  {
   "cell_type": "code",
   "execution_count": null,
   "id": "080d4f97",
   "metadata": {},
   "outputs": [],
   "source": []
  },
  {
   "cell_type": "code",
   "execution_count": null,
   "id": "81b7c531",
   "metadata": {},
   "outputs": [],
   "source": []
  },
  {
   "cell_type": "code",
   "execution_count": null,
   "id": "2c4c41f3",
   "metadata": {},
   "outputs": [],
   "source": []
  },
  {
   "cell_type": "code",
   "execution_count": null,
   "id": "1fc7e2ee",
   "metadata": {},
   "outputs": [],
   "source": []
  }
 ],
 "metadata": {
  "kernelspec": {
   "display_name": "Python 3 (ipykernel)",
   "language": "python",
   "name": "python3"
  },
  "language_info": {
   "codemirror_mode": {
    "name": "ipython",
    "version": 3
   },
   "file_extension": ".py",
   "mimetype": "text/x-python",
   "name": "python",
   "nbconvert_exporter": "python",
   "pygments_lexer": "ipython3",
   "version": "3.10.9"
  }
 },
 "nbformat": 4,
 "nbformat_minor": 5
}
