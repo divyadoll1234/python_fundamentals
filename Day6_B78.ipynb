{
 "cells": [
  {
   "cell_type": "code",
   "execution_count": null,
   "id": "188918c0",
   "metadata": {},
   "outputs": [],
   "source": [
    "understanding the loopinhg statements"
   ]
  },
  {
   "cell_type": "code",
   "execution_count": null,
   "id": "62f30ffd",
   "metadata": {},
   "outputs": [],
   "source": []
  },
  {
   "cell_type": "code",
   "execution_count": null,
   "id": "64ed6d57",
   "metadata": {},
   "outputs": [],
   "source": [
    "implementing of the for loop : "
   ]
  },
  {
   "cell_type": "code",
   "execution_count": null,
   "id": "2ae458b1",
   "metadata": {},
   "outputs": [],
   "source": []
  },
  {
   "cell_type": "code",
   "execution_count": 5,
   "id": "d587beb5",
   "metadata": {},
   "outputs": [
    {
     "ename": "NameError",
     "evalue": "name 'mainvar' is not defined",
     "output_type": "error",
     "traceback": [
      "\u001b[1;31m---------------------------------------------------------------------------\u001b[0m",
      "\u001b[1;31mNameError\u001b[0m                                 Traceback (most recent call last)",
      "Cell \u001b[1;32mIn[5], line 3\u001b[0m\n\u001b[0;32m      1\u001b[0m \u001b[38;5;66;03m#general syntax of for loop : \u001b[39;00m\n\u001b[1;32m----> 3\u001b[0m \u001b[38;5;28;01mfor\u001b[39;00m tempvar \u001b[38;5;129;01min\u001b[39;00m \u001b[43mmainvar\u001b[49m: \n\u001b[0;32m      4\u001b[0m     \u001b[38;5;28mprint\u001b[39m(tempvar)\n",
      "\u001b[1;31mNameError\u001b[0m: name 'mainvar' is not defined"
     ]
    }
   ],
   "source": [
    "#general syntax of for loop : \n",
    "\n",
    "for tempvar in mainvar: \n",
    "    print(tempvar)"
   ]
  },
  {
   "cell_type": "code",
   "execution_count": null,
   "id": "50af4236",
   "metadata": {},
   "outputs": [],
   "source": []
  },
  {
   "cell_type": "code",
   "execution_count": 6,
   "id": "c7b1afad",
   "metadata": {},
   "outputs": [],
   "source": [
    "students = ['ananya' , 'visesha' , 'zeeshan' , 'kumar' , 'arvind']"
   ]
  },
  {
   "cell_type": "code",
   "execution_count": 7,
   "id": "23c95550",
   "metadata": {},
   "outputs": [
    {
     "data": {
      "text/plain": [
       "list"
      ]
     },
     "execution_count": 7,
     "metadata": {},
     "output_type": "execute_result"
    }
   ],
   "source": [
    "type(students)"
   ]
  },
  {
   "cell_type": "code",
   "execution_count": 9,
   "id": "b16bec9a",
   "metadata": {},
   "outputs": [
    {
     "name": "stdout",
     "output_type": "stream",
     "text": [
      "Keep up the good work, Ananya\n"
     ]
    }
   ],
   "source": [
    "print(f\"Keep up the good work, {students[0].title()}\")"
   ]
  },
  {
   "cell_type": "code",
   "execution_count": 10,
   "id": "2cc98477",
   "metadata": {},
   "outputs": [
    {
     "name": "stdout",
     "output_type": "stream",
     "text": [
      "Keep up the good work, Visesha\n"
     ]
    }
   ],
   "source": [
    "print(f\"Keep up the good work, {students[1].title()}\")"
   ]
  },
  {
   "cell_type": "code",
   "execution_count": null,
   "id": "1f514098",
   "metadata": {},
   "outputs": [],
   "source": []
  },
  {
   "cell_type": "code",
   "execution_count": 12,
   "id": "5c943da3",
   "metadata": {},
   "outputs": [
    {
     "name": "stdout",
     "output_type": "stream",
     "text": [
      "keep up the good work, ananya\n",
      "keep up the good work, visesha\n",
      "keep up the good work, zeeshan\n",
      "keep up the good work, kumar\n",
      "keep up the good work, arvind\n"
     ]
    }
   ],
   "source": [
    "for x in students:\n",
    "    print(f\"keep up the good work, {x}\")"
   ]
  },
  {
   "cell_type": "code",
   "execution_count": null,
   "id": "2138bc4b",
   "metadata": {},
   "outputs": [],
   "source": []
  },
  {
   "cell_type": "code",
   "execution_count": 13,
   "id": "01a88a23",
   "metadata": {},
   "outputs": [
    {
     "name": "stdout",
     "output_type": "stream",
     "text": [
      "Keep up the good work, ananya\n",
      "Keep up the good work, visesha\n",
      "Keep up the good work, zeeshan\n",
      "Keep up the good work, kumar\n",
      "Keep up the good work, arvind\n"
     ]
    }
   ],
   "source": [
    "for a in students:\n",
    "    print(f\"Keep up the good work, {a}\")"
   ]
  },
  {
   "cell_type": "code",
   "execution_count": null,
   "id": "160e1188",
   "metadata": {},
   "outputs": [],
   "source": []
  },
  {
   "cell_type": "code",
   "execution_count": 16,
   "id": "5d2daaed",
   "metadata": {},
   "outputs": [
    {
     "name": "stdout",
     "output_type": "stream",
     "text": [
      "Keep up the good work, ananya\n",
      "do submit your github urls to my inbox, ananya\n",
      "Keep up the good work, visesha\n",
      "do submit your github urls to my inbox, visesha\n",
      "Keep up the good work, zeeshan\n",
      "do submit your github urls to my inbox, zeeshan\n",
      "Keep up the good work, kumar\n",
      "do submit your github urls to my inbox, kumar\n",
      "Keep up the good work, arvind\n",
      "do submit your github urls to my inbox, arvind\n"
     ]
    }
   ],
   "source": [
    "for a in students:\n",
    "    print(f\"Keep up the good work, {a}\")\n",
    "    print(f\"do submit your github urls to my inbox, {a}\")"
   ]
  },
  {
   "cell_type": "code",
   "execution_count": null,
   "id": "053039f4",
   "metadata": {},
   "outputs": [],
   "source": []
  },
  {
   "cell_type": "code",
   "execution_count": 17,
   "id": "0619b778",
   "metadata": {},
   "outputs": [
    {
     "name": "stdout",
     "output_type": "stream",
     "text": [
      "Keep up the good work, ananya\n",
      "do submit your github urls to my inbox, ananya\n",
      "\n",
      "Keep up the good work, visesha\n",
      "do submit your github urls to my inbox, visesha\n",
      "\n",
      "Keep up the good work, zeeshan\n",
      "do submit your github urls to my inbox, zeeshan\n",
      "\n",
      "Keep up the good work, kumar\n",
      "do submit your github urls to my inbox, kumar\n",
      "\n",
      "Keep up the good work, arvind\n",
      "do submit your github urls to my inbox, arvind\n",
      "\n"
     ]
    }
   ],
   "source": [
    "for a in students:\n",
    "    print(f\"Keep up the good work, {a}\")\n",
    "    print(f\"do submit your github urls to my inbox, {a}\\n\")"
   ]
  },
  {
   "cell_type": "code",
   "execution_count": null,
   "id": "51f1919b",
   "metadata": {},
   "outputs": [],
   "source": []
  },
  {
   "cell_type": "code",
   "execution_count": null,
   "id": "21a49a6e",
   "metadata": {},
   "outputs": [],
   "source": [
    "Introduction to tuple datatype : "
   ]
  },
  {
   "cell_type": "code",
   "execution_count": null,
   "id": "22c2c7c2",
   "metadata": {},
   "outputs": [],
   "source": [
    "Definition : An immutable list is called a tuple.\n",
    "\n",
    "    classification : It is classified as an immutable datatype\n",
    "        \n",
    "    how to define the tuple ------>(  )    \n",
    "    "
   ]
  },
  {
   "cell_type": "code",
   "execution_count": null,
   "id": "79cd68d7",
   "metadata": {},
   "outputs": [],
   "source": []
  },
  {
   "cell_type": "code",
   "execution_count": 18,
   "id": "b73a65ff",
   "metadata": {},
   "outputs": [],
   "source": [
    "students = ('sadiya' , 'bala' , 'divya' , 'shiva' , 'kiran' , 'arun')"
   ]
  },
  {
   "cell_type": "code",
   "execution_count": 19,
   "id": "019d9afd",
   "metadata": {},
   "outputs": [
    {
     "data": {
      "text/plain": [
       "tuple"
      ]
     },
     "execution_count": 19,
     "metadata": {},
     "output_type": "execute_result"
    }
   ],
   "source": [
    "type(students)"
   ]
  },
  {
   "cell_type": "code",
   "execution_count": null,
   "id": "7208bc87",
   "metadata": {},
   "outputs": [],
   "source": [
    "# req : sadiyas name to sanali"
   ]
  },
  {
   "cell_type": "code",
   "execution_count": 20,
   "id": "b98233d9",
   "metadata": {},
   "outputs": [
    {
     "ename": "NameError",
     "evalue": "name 'student' is not defined",
     "output_type": "error",
     "traceback": [
      "\u001b[1;31m---------------------------------------------------------------------------\u001b[0m",
      "\u001b[1;31mNameError\u001b[0m                                 Traceback (most recent call last)",
      "Cell \u001b[1;32mIn[20], line 1\u001b[0m\n\u001b[1;32m----> 1\u001b[0m \u001b[43mstudent\u001b[49m[\u001b[38;5;241m0\u001b[39m] \u001b[38;5;241m=\u001b[39m \u001b[38;5;124m'\u001b[39m\u001b[38;5;124msanali\u001b[39m\u001b[38;5;124m'\u001b[39m\n",
      "\u001b[1;31mNameError\u001b[0m: name 'student' is not defined"
     ]
    }
   ],
   "source": [
    "student[0] = 'sanali'"
   ]
  },
  {
   "cell_type": "code",
   "execution_count": 21,
   "id": "e0bca8ea",
   "metadata": {},
   "outputs": [
    {
     "name": "stdout",
     "output_type": "stream",
     "text": [
      "Bala\n"
     ]
    }
   ],
   "source": [
    "print(students[1].title())"
   ]
  },
  {
   "cell_type": "code",
   "execution_count": 22,
   "id": "046cc8e6",
   "metadata": {},
   "outputs": [
    {
     "name": "stdout",
     "output_type": "stream",
     "text": [
      "sadiya\n",
      "bala\n",
      "divya\n",
      "shiva\n",
      "kiran\n",
      "arun\n"
     ]
    }
   ],
   "source": [
    "for a in students:\n",
    "    print(a)\n",
    "   "
   ]
  },
  {
   "cell_type": "code",
   "execution_count": null,
   "id": "db5517fb",
   "metadata": {},
   "outputs": [],
   "source": []
  },
  {
   "cell_type": "code",
   "execution_count": 23,
   "id": "3c09ccfb",
   "metadata": {},
   "outputs": [],
   "source": [
    "dimensions = (200,50)"
   ]
  },
  {
   "cell_type": "code",
   "execution_count": 24,
   "id": "b0f646a0",
   "metadata": {},
   "outputs": [
    {
     "name": "stdout",
     "output_type": "stream",
     "text": [
      "(200, 50)\n"
     ]
    }
   ],
   "source": [
    "print(dimensions)"
   ]
  },
  {
   "cell_type": "code",
   "execution_count": 26,
   "id": "8d8d7d35",
   "metadata": {},
   "outputs": [
    {
     "data": {
      "text/plain": [
       "tuple"
      ]
     },
     "execution_count": 26,
     "metadata": {},
     "output_type": "execute_result"
    }
   ],
   "source": [
    "type(dimensions)"
   ]
  },
  {
   "cell_type": "code",
   "execution_count": null,
   "id": "31098472",
   "metadata": {},
   "outputs": [],
   "source": []
  },
  {
   "cell_type": "code",
   "execution_count": null,
   "id": "92bf3cb1",
   "metadata": {},
   "outputs": [],
   "source": []
  },
  {
   "cell_type": "code",
   "execution_count": null,
   "id": "7f7ae9de",
   "metadata": {},
   "outputs": [],
   "source": []
  },
  {
   "cell_type": "code",
   "execution_count": null,
   "id": "1747b6fc",
   "metadata": {},
   "outputs": [],
   "source": []
  }
 ],
 "metadata": {
  "kernelspec": {
   "display_name": "Python 3 (ipykernel)",
   "language": "python",
   "name": "python3"
  },
  "language_info": {
   "codemirror_mode": {
    "name": "ipython",
    "version": 3
   },
   "file_extension": ".py",
   "mimetype": "text/x-python",
   "name": "python",
   "nbconvert_exporter": "python",
   "pygments_lexer": "ipython3",
   "version": "3.10.9"
  }
 },
 "nbformat": 4,
 "nbformat_minor": 5
}
