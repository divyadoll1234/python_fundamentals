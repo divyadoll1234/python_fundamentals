{
 "cells": [
  {
   "cell_type": "code",
   "execution_count": null,
   "id": "3cd08018",
   "metadata": {},
   "outputs": [],
   "source": [
    "Introduction to dictionary datatype : "
   ]
  },
  {
   "cell_type": "code",
   "execution_count": null,
   "id": "05f1a8cb",
   "metadata": {},
   "outputs": [],
   "source": []
  },
  {
   "cell_type": "code",
   "execution_count": null,
   "id": "2447c285",
   "metadata": {},
   "outputs": [],
   "source": [
    "Definition  : A dictionary is a combination of key value pairs\n",
    "    \n",
    "Classification : It is defined as a mutable datatype (we and edit and alter)\n",
    "    \n",
    "How to declare the dictionary datatype....?    "
   ]
  },
  {
   "cell_type": "code",
   "execution_count": null,
   "id": "59f2cb2d",
   "metadata": {},
   "outputs": [],
   "source": []
  },
  {
   "cell_type": "code",
   "execution_count": 1,
   "id": "716c5ab5",
   "metadata": {},
   "outputs": [],
   "source": [
    "# req : i want to create a alien game"
   ]
  },
  {
   "cell_type": "code",
   "execution_count": 3,
   "id": "1df503e6",
   "metadata": {},
   "outputs": [],
   "source": [
    "alien = {'color':'green','points':5}"
   ]
  },
  {
   "cell_type": "code",
   "execution_count": 4,
   "id": "b685c675",
   "metadata": {},
   "outputs": [
    {
     "name": "stdout",
     "output_type": "stream",
     "text": [
      "{'color': 'green', 'points': 5}\n"
     ]
    }
   ],
   "source": [
    "print(alien)"
   ]
  },
  {
   "cell_type": "code",
   "execution_count": 5,
   "id": "b1a6c498",
   "metadata": {},
   "outputs": [
    {
     "data": {
      "text/plain": [
       "dict"
      ]
     },
     "execution_count": 5,
     "metadata": {},
     "output_type": "execute_result"
    }
   ],
   "source": [
    "type(alien)"
   ]
  },
  {
   "cell_type": "code",
   "execution_count": null,
   "id": "0eeccc2d",
   "metadata": {},
   "outputs": [],
   "source": []
  },
  {
   "cell_type": "code",
   "execution_count": null,
   "id": "4a06b9ff",
   "metadata": {},
   "outputs": [],
   "source": [
    "#req i want to add start position of alien"
   ]
  },
  {
   "cell_type": "code",
   "execution_count": 6,
   "id": "1e89d758",
   "metadata": {},
   "outputs": [],
   "source": [
    "alien['start_position'] = 1"
   ]
  },
  {
   "cell_type": "code",
   "execution_count": 7,
   "id": "544d87f4",
   "metadata": {},
   "outputs": [
    {
     "name": "stdout",
     "output_type": "stream",
     "text": [
      "{'color': 'green', 'points': 5, 'start_position': 1}\n"
     ]
    }
   ],
   "source": [
    "print(alien)"
   ]
  },
  {
   "cell_type": "code",
   "execution_count": null,
   "id": "a0ce843b",
   "metadata": {},
   "outputs": [],
   "source": []
  },
  {
   "cell_type": "code",
   "execution_count": null,
   "id": "2360f400",
   "metadata": {},
   "outputs": [],
   "source": [
    "# req : i want to change the color o yellow...?"
   ]
  },
  {
   "cell_type": "code",
   "execution_count": 8,
   "id": "5c288f33",
   "metadata": {},
   "outputs": [],
   "source": [
    "alien['color'] = 'yellow'"
   ]
  },
  {
   "cell_type": "code",
   "execution_count": 9,
   "id": "1bdf8ab6",
   "metadata": {},
   "outputs": [
    {
     "name": "stdout",
     "output_type": "stream",
     "text": [
      "{'color': 'yellow', 'points': 5, 'start_position': 1}\n"
     ]
    }
   ],
   "source": [
    "print(alien)"
   ]
  },
  {
   "cell_type": "code",
   "execution_count": null,
   "id": "8d3510af",
   "metadata": {},
   "outputs": [],
   "source": []
  },
  {
   "cell_type": "code",
   "execution_count": 11,
   "id": "714c2c4b",
   "metadata": {},
   "outputs": [
    {
     "name": "stdout",
     "output_type": "stream",
     "text": [
      "5\n"
     ]
    }
   ],
   "source": [
    "print(alien['points'])"
   ]
  },
  {
   "cell_type": "code",
   "execution_count": null,
   "id": "2c078d7e",
   "metadata": {},
   "outputs": [],
   "source": []
  },
  {
   "cell_type": "code",
   "execution_count": null,
   "id": "a01666e6",
   "metadata": {},
   "outputs": [],
   "source": [
    "# can i give the value and get the output...?"
   ]
  },
  {
   "cell_type": "code",
   "execution_count": 12,
   "id": "f0fd0288",
   "metadata": {},
   "outputs": [
    {
     "ename": "NameError",
     "evalue": "name 'aline' is not defined",
     "output_type": "error",
     "traceback": [
      "\u001b[1;31m---------------------------------------------------------------------------\u001b[0m",
      "\u001b[1;31mNameError\u001b[0m                                 Traceback (most recent call last)",
      "Cell \u001b[1;32mIn[12], line 1\u001b[0m\n\u001b[1;32m----> 1\u001b[0m \u001b[38;5;28mprint\u001b[39m(\u001b[43maline\u001b[49m[\u001b[38;5;241m1\u001b[39m])\n",
      "\u001b[1;31mNameError\u001b[0m: name 'aline' is not defined"
     ]
    }
   ],
   "source": [
    "print(aline[1])"
   ]
  },
  {
   "cell_type": "code",
   "execution_count": null,
   "id": "dfe7faa1",
   "metadata": {},
   "outputs": [],
   "source": [
    "# key values will be acting as index points"
   ]
  },
  {
   "cell_type": "code",
   "execution_count": null,
   "id": "be4af13a",
   "metadata": {},
   "outputs": [],
   "source": []
  },
  {
   "cell_type": "code",
   "execution_count": null,
   "id": "068f36e6",
   "metadata": {},
   "outputs": [],
   "source": [
    "#req : create a user_account in facebook...?"
   ]
  },
  {
   "cell_type": "code",
   "execution_count": 14,
   "id": "0375d38f",
   "metadata": {},
   "outputs": [
    {
     "name": "stdout",
     "output_type": "stream",
     "text": [
      "{'user_name': 'code training', 'firts_name': 'bala', 'Last_name': 'divya', 'dob': '10-11-1992', 'pwd': '123456'}\n"
     ]
    }
   ],
   "source": [
    "user_account = {'user_name':'code training','firts_name':'bala','Last_name':'divya','dob':'10-11-1992','pwd':'123456'}\n",
    "print(user_account)"
   ]
  },
  {
   "cell_type": "code",
   "execution_count": null,
   "id": "002248bc",
   "metadata": {},
   "outputs": [],
   "source": []
  },
  {
   "cell_type": "code",
   "execution_count": 15,
   "id": "ce994fed",
   "metadata": {},
   "outputs": [
    {
     "ename": "NameError",
     "evalue": "name 'mainvar' is not defined",
     "output_type": "error",
     "traceback": [
      "\u001b[1;31m---------------------------------------------------------------------------\u001b[0m",
      "\u001b[1;31mNameError\u001b[0m                                 Traceback (most recent call last)",
      "Cell \u001b[1;32mIn[15], line 3\u001b[0m\n\u001b[0;32m      1\u001b[0m \u001b[38;5;66;03m#general syntax\u001b[39;00m\n\u001b[1;32m----> 3\u001b[0m \u001b[38;5;28;01mfor\u001b[39;00m tempvar \u001b[38;5;129;01min\u001b[39;00m \u001b[43mmainvar\u001b[49m:\n\u001b[0;32m      4\u001b[0m     \u001b[38;5;28mprint\u001b[39m(tempvar)\n",
      "\u001b[1;31mNameError\u001b[0m: name 'mainvar' is not defined"
     ]
    }
   ],
   "source": [
    "#general syntax\n",
    "\n",
    "for tempvar in mainvar:\n",
    "    print(tempvar)"
   ]
  },
  {
   "cell_type": "code",
   "execution_count": null,
   "id": "69f92a69",
   "metadata": {},
   "outputs": [],
   "source": [
    "for tempvar1,tempcar2 in mainvar.items():\n",
    "    print(tempvar1)\n",
    "    print(tempvar2)"
   ]
  },
  {
   "cell_type": "code",
   "execution_count": null,
   "id": "fcf322fa",
   "metadata": {},
   "outputs": [],
   "source": []
  },
  {
   "cell_type": "code",
   "execution_count": 17,
   "id": "e051ec54",
   "metadata": {},
   "outputs": [
    {
     "name": "stdout",
     "output_type": "stream",
     "text": [
      "user_name\n",
      "code training\n",
      "firts_name\n",
      "bala\n",
      "Last_name\n",
      "divya\n",
      "dob\n",
      "10-11-1992\n",
      "pwd\n",
      "123456\n"
     ]
    }
   ],
   "source": [
    "for a,b in user_account.items():\n",
    "    print(a)\n",
    "    print(b)"
   ]
  },
  {
   "cell_type": "code",
   "execution_count": null,
   "id": "b4e54ed5",
   "metadata": {},
   "outputs": [],
   "source": []
  },
  {
   "cell_type": "code",
   "execution_count": 19,
   "id": "b5e3f066",
   "metadata": {},
   "outputs": [
    {
     "name": "stdout",
     "output_type": "stream",
     "text": [
      "key: user_name\n",
      "value : code training\n",
      "\n",
      "key: firts_name\n",
      "value : bala\n",
      "\n",
      "key: Last_name\n",
      "value : divya\n",
      "\n",
      "key: dob\n",
      "value : 10-11-1992\n",
      "\n",
      "key: pwd\n",
      "value : 123456\n",
      "\n"
     ]
    }
   ],
   "source": [
    "for a,b in user_account.items():\n",
    "    print(f\"key: {a}\")\n",
    "    print(f\"value : {b}\\n\")"
   ]
  },
  {
   "cell_type": "code",
   "execution_count": null,
   "id": "ec4769fb",
   "metadata": {},
   "outputs": [],
   "source": []
  },
  {
   "cell_type": "code",
   "execution_count": null,
   "id": "3b5edef9",
   "metadata": {},
   "outputs": [],
   "source": []
  },
  {
   "cell_type": "code",
   "execution_count": null,
   "id": "3ade9ec9",
   "metadata": {},
   "outputs": [],
   "source": []
  }
 ],
 "metadata": {
  "kernelspec": {
   "display_name": "Python 3 (ipykernel)",
   "language": "python",
   "name": "python3"
  },
  "language_info": {
   "codemirror_mode": {
    "name": "ipython",
    "version": 3
   },
   "file_extension": ".py",
   "mimetype": "text/x-python",
   "name": "python",
   "nbconvert_exporter": "python",
   "pygments_lexer": "ipython3",
   "version": "3.10.9"
  }
 },
 "nbformat": 4,
 "nbformat_minor": 5
}
