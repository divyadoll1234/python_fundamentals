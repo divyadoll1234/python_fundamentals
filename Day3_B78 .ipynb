{
 "cells": [
  {
   "cell_type": "code",
   "execution_count": null,
   "id": "13b193db",
   "metadata": {},
   "outputs": [],
   "source": [
    "continuing with string data type : "
   ]
  },
  {
   "cell_type": "code",
   "execution_count": null,
   "id": "d9abe4e4",
   "metadata": {},
   "outputs": [],
   "source": []
  },
  {
   "cell_type": "code",
   "execution_count": null,
   "id": "30eba538",
   "metadata": {},
   "outputs": [],
   "source": [
    "introduction of f strings : "
   ]
  },
  {
   "cell_type": "code",
   "execution_count": null,
   "id": "751ca717",
   "metadata": {},
   "outputs": [],
   "source": [
    "General syntax for f strings : "
   ]
  },
  {
   "cell_type": "code",
   "execution_count": null,
   "id": "d2b32a7a",
   "metadata": {},
   "outputs": [],
   "source": [
    "f\"custom words {placeholder1} {placeholder2}......{placeholdern}\""
   ]
  },
  {
   "cell_type": "code",
   "execution_count": null,
   "id": "e4099c18",
   "metadata": {},
   "outputs": [],
   "source": []
  },
  {
   "cell_type": "code",
   "execution_count": 4,
   "id": "bf89c50d",
   "metadata": {},
   "outputs": [
    {
     "name": "stdout",
     "output_type": "stream",
     "text": [
      "bala divya 8099176555 bala.divya1011@gmail.com\n"
     ]
    }
   ],
   "source": [
    "firstname = 'bala'\n",
    "lastname = 'divya'\n",
    "mobile = '8099176555'\n",
    "email = 'bala.divya1011@gmail.com'\n",
    "fullname = f\"{firstname} {lastname}\"\n",
    "details = f\"{fullname} {mobile} {email}\"\n",
    "print(details)"
   ]
  },
  {
   "cell_type": "code",
   "execution_count": null,
   "id": "d62db2e2",
   "metadata": {},
   "outputs": [],
   "source": [
    "# req : i want to get fullname with other details"
   ]
  },
  {
   "cell_type": "code",
   "execution_count": 2,
   "id": "95ae7b57",
   "metadata": {},
   "outputs": [
    {
     "ename": "NameError",
     "evalue": "name 'firstname' is not defined",
     "output_type": "error",
     "traceback": [
      "\u001b[1;31m---------------------------------------------------------------------------\u001b[0m",
      "\u001b[1;31mNameError\u001b[0m                                 Traceback (most recent call last)",
      "Cell \u001b[1;32mIn[2], line 1\u001b[0m\n\u001b[1;32m----> 1\u001b[0m details \u001b[38;5;241m=\u001b[39m \u001b[38;5;124mf\u001b[39m\u001b[38;5;124m\"\u001b[39m\u001b[38;5;132;01m{\u001b[39;00mfirstname\u001b[38;5;132;01m}\u001b[39;00m\u001b[38;5;124m \u001b[39m\u001b[38;5;132;01m{\u001b[39;00mlastname\u001b[38;5;132;01m}\u001b[39;00m\u001b[38;5;124m \u001b[39m\u001b[38;5;132;01m{\u001b[39;00mmobile\u001b[38;5;132;01m}\u001b[39;00m\u001b[38;5;124m \u001b[39m\u001b[38;5;132;01m{\u001b[39;00memail\u001b[38;5;132;01m}\u001b[39;00m\u001b[38;5;124m\"\u001b[39m\n\u001b[0;32m      2\u001b[0m \u001b[38;5;28mprint\u001b[39m(details)\n",
      "\u001b[1;31mNameError\u001b[0m: name 'firstname' is not defined"
     ]
    }
   ],
   "source": []
  },
  {
   "cell_type": "code",
   "execution_count": 7,
   "id": "6e7516d0",
   "metadata": {},
   "outputs": [
    {
     "name": "stdout",
     "output_type": "stream",
     "text": [
      "Bala Divya\n"
     ]
    }
   ],
   "source": [
    "print(fullname.title())"
   ]
  },
  {
   "cell_type": "code",
   "execution_count": 8,
   "id": "9c6d300a",
   "metadata": {},
   "outputs": [
    {
     "name": "stdout",
     "output_type": "stream",
     "text": [
      "Bala Divya 8099176555 bala.divya1011@gmail.com\n"
     ]
    }
   ],
   "source": [
    "details = f\"{(fullname).title()} {mobile} {email}\"\n",
    "print(details)"
   ]
  },
  {
   "cell_type": "code",
   "execution_count": 12,
   "id": "d925a6ca",
   "metadata": {},
   "outputs": [
    {
     "name": "stdout",
     "output_type": "stream",
     "text": [
      "Bala Divya\n",
      "8099176555\n",
      "bala.divya1011@gmail.com\n"
     ]
    }
   ],
   "source": [
    "details = f\"{(fullname).title()}\\n{mobile}\\n{email}\"\n",
    "print(details)"
   ]
  },
  {
   "cell_type": "code",
   "execution_count": null,
   "id": "6e0dba66",
   "metadata": {},
   "outputs": [],
   "source": []
  },
  {
   "cell_type": "code",
   "execution_count": 15,
   "id": "8030d4fc",
   "metadata": {},
   "outputs": [
    {
     "name": "stdout",
     "output_type": "stream",
     "text": [
      "\tBala Divya\n",
      "\t8099176555\n",
      "\tbala.divya1011@gmail.com\n"
     ]
    }
   ],
   "source": [
    "details = f\"\\t{(fullname).title()}\\n\\t{mobile}\\n\\t{email}\"\n",
    "print(details)"
   ]
  },
  {
   "cell_type": "code",
   "execution_count": null,
   "id": "6f054f55",
   "metadata": {},
   "outputs": [],
   "source": []
  },
  {
   "cell_type": "code",
   "execution_count": null,
   "id": "cf3593f2",
   "metadata": {},
   "outputs": [],
   "source": []
  }
 ],
 "metadata": {
  "kernelspec": {
   "display_name": "Python 3 (ipykernel)",
   "language": "python",
   "name": "python3"
  },
  "language_info": {
   "codemirror_mode": {
    "name": "ipython",
    "version": 3
   },
   "file_extension": ".py",
   "mimetype": "text/x-python",
   "name": "python",
   "nbconvert_exporter": "python",
   "pygments_lexer": "ipython3",
   "version": "3.10.9"
  }
 },
 "nbformat": 4,
 "nbformat_minor": 5
}
